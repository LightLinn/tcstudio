{
 "cells": [
  {
   "cell_type": "code",
   "execution_count": 2,
   "id": "e37c4eba",
   "metadata": {},
   "outputs": [],
   "source": [
    "import cv2\n",
    "import numpy as np\n",
    "from PIL import Image"
   ]
  },
  {
   "cell_type": "code",
   "execution_count": 17,
   "id": "6eedabe5",
   "metadata": {},
   "outputs": [
    {
     "data": {
      "text/plain": [
       "True"
      ]
     },
     "execution_count": 17,
     "metadata": {},
     "output_type": "execute_result"
    }
   ],
   "source": [
    "import cv2\n",
    "\n",
    "def transparence2white(img):\n",
    "    sp=img.shape # 获取图片维度\n",
    "    width=sp[0] # 宽度\n",
    "    height=sp[1] # 高度\n",
    "    for yh in range(height):\n",
    "        for xw in range(width):\n",
    "            color_d=img[xw,yh] # 遍历图像每一个点\n",
    "            if color_d[0] <= 20 and color_d[1] <= 20 and color_d[2] <= 20:\n",
    "                img[xw,yh]=np.array([27, 9, 7])\n",
    "    return img\n",
    "\n",
    "img=cv2.imread('./bg.png') # 读取图片。-1将图片透明度传入，数据由RGB的3通道变成4通道\n",
    "img=transparence2white(img) # 将图片传入，改变背景色后，返回\n",
    "cv2.imwrite('new_bg.png',img) # 保存图片，文件名自定义，也可以覆盖原文件"
   ]
  },
  {
   "cell_type": "code",
   "execution_count": null,
   "id": "5af1588c",
   "metadata": {},
   "outputs": [],
   "source": [
    "#07091b"
   ]
  }
 ],
 "metadata": {
  "kernelspec": {
   "display_name": "Python 3 (ipykernel)",
   "language": "python",
   "name": "python3"
  },
  "language_info": {
   "codemirror_mode": {
    "name": "ipython",
    "version": 3
   },
   "file_extension": ".py",
   "mimetype": "text/x-python",
   "name": "python",
   "nbconvert_exporter": "python",
   "pygments_lexer": "ipython3",
   "version": "3.9.13"
  }
 },
 "nbformat": 4,
 "nbformat_minor": 5
}
